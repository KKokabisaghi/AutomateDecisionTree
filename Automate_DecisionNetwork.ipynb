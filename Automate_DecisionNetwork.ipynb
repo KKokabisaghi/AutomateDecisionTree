{
  "cells": [
    {
      "cell_type": "markdown",
      "metadata": {
        "id": "eq3XYM3xSvPI"
      },
      "source": [
        "\n",
        "\n",
        "```\n",
        "# This is formatted as code\n",
        "```\n"
      ]
    },
    {
      "cell_type": "markdown",
      "source": [
        "Author: Karan Kokabisaghi\n",
        "Strategy Analyst| Data Scientist|Python Developer\n",
        "\n",
        "Date: 22 November 2022\n",
        "\n",
        "Version: 1.0"
      ],
      "metadata": {
        "id": "bdHLP9CSw3Mq"
      }
    },
    {
      "cell_type": "markdown",
      "source": [
        "- This code is to automate the computations within a network. \n",
        "- The following code is the continuation of the \"Networkx_DecisionBoost\" article in my repository. \n",
        "  - There is a network \"G\" with 6 nodes (node id, node type, nr_children) and 9 edges (each edge has attributes. e.g.cost, probability, action). \n",
        "  "
      ],
      "metadata": {
        "id": "KRM_eTfD4guo"
      }
    },
    {
      "cell_type": "markdown",
      "source": [
        "# Mount google drive or read data from your directory on the computer"
      ],
      "metadata": {
        "id": "0o9NJ6bCyaM-"
      }
    },
    {
      "cell_type": "code",
      "execution_count": null,
      "metadata": {
        "id": "m2kFy-ubsh4I",
        "colab": {
          "base_uri": "https://localhost:8080/"
        },
        "outputId": "6230271d-8bce-4c42-8820-84577c85ac24"
      },
      "outputs": [
        {
          "output_type": "stream",
          "name": "stdout",
          "text": [
            "Drive already mounted at /content/drive; to attempt to forcibly remount, call drive.mount(\"/content/drive\", force_remount=True).\n",
            "/content/drive/My Drive/Financial_Crime_Py_Codes\n"
          ]
        }
      ],
      "source": [
        "# connect to the working directory\n",
        "from google.colab import drive\n",
        "drive.mount('/content/drive') \n",
        "import os\n",
        "os.chdir(r'/content/drive/My Drive') # Define your directory in your google drive\n",
        "print(os.getcwd())"
      ]
    },
    {
      "cell_type": "code",
      "execution_count": null,
      "metadata": {
        "id": "VLZ6RA55MQ7z"
      },
      "outputs": [],
      "source": [
        "#!pip install xlrd\n",
        "import xlrd # to import/read excel file\n",
        "import networkx as nx\n"
      ]
    },
    {
      "cell_type": "markdown",
      "metadata": {
        "id": "nu61pGvaAjb8"
      },
      "source": [
        "# Build the network\n",
        "- Read Data from excel file"
      ]
    },
    {
      "cell_type": "code",
      "execution_count": null,
      "metadata": {
        "id": "tOT0M1wPec09",
        "colab": {
          "base_uri": "https://localhost:8080/"
        },
        "outputId": "bfca3cf4-634f-4818-cec4-39ebbf3602a8"
      },
      "outputs": [
        {
          "output_type": "stream",
          "name": "stdout",
          "text": [
            "<xlrd.sheet.Sheet object at 0x7f6431ad8410>\n"
          ]
        }
      ],
      "source": [
        "# Open Workbook :\n",
        "#--------------------------------------\n",
        "loc = (r\"/content/drive/My Drive/example_excel_datascience.xlsx\")\n",
        "\n",
        "wb = xlrd.open_workbook(loc)\n",
        "sheet_nodes = wb.sheet_by_name(\"Node_info\") # read sheet by name\n",
        "print(sheet_nodes)"
      ]
    },
    {
      "cell_type": "code",
      "source": [
        "G = nx.DiGraph()\n",
        "checklist_col = {}\n",
        "for row_id in range(1,sheet_nodes.nrows): \n",
        "  #row = 0 is the titles \n",
        "  #node_id in Excel first column\n",
        "  #1. get the node_id for this row and add it to the network\n",
        "  node_id = int(sheet_nodes.cell_value(row_id,0))\n",
        "  G.add_node(node_id)\n",
        "   \n",
        "  # add node type to the network:\n",
        "  node_type={}\n",
        "  node_type.update({node_id: dict(zip(['node_type'],[sheet_nodes.cell_value(row_id, 1)]))}) \n",
        "  nx.set_node_attributes(G, node_type)\n",
        "\n",
        "\n",
        "  nr_children =  int(sheet_nodes.cell_value(row_id,2))\n",
        "  #\n",
        "  # To matrix check, add a column that contains matrix names to the network node \n",
        "  checklist_col.update({node_id: dict(zip(['checklist_name'],[sheet_nodes.cell_value(row_id, 4)]))}) # node_type in Excel second column  \n",
        "  nx.set_node_attributes(G, checklist_col)\n",
        "  # 2. CYCLE OVER ALL THE Children\n",
        "  children_of_this_node = [] #a list to collect each loop \n",
        "  col_offset = 5 \n",
        "  nr_features_per_edge = 4 \n",
        "  for k in range(1,nr_children+1):\n",
        "    '''\n",
        "    read the k-th child's node_id at \n",
        "     the following location in the excel sheet_nodes\n",
        "    '''\n",
        "    child_node_id_col0 = col_offset-1+(k-1)*nr_features_per_edge+1\n",
        "    child_node_id  = int(sheet_nodes.cell(row_id, child_node_id_col0).value)\n",
        "    children_of_this_node.append(child_node_id)\n",
        "    \n",
        "    # 3. Find the corresponding attributes : column order : child_id, action, prob, cost\n",
        "    attr_action_col0 = child_node_id_col0 + 1\n",
        "    edge_action = sheet_nodes.cell(row_id, attr_action_col0).value\n",
        "    attr_prob_col0 = child_node_id_col0 + 2\n",
        "    edge_prob = sheet_nodes.cell(row_id, attr_prob_col0).value\n",
        "    attr_cost_col0 = child_node_id_col0 + 3 \n",
        "    edge_cost = sheet_nodes.cell(row_id, attr_cost_col0).value  \n",
        "    print('edge from ', node_id, 'to ', child_node_id, \n",
        "   'action:', edge_action, \n",
        "   ', prob', edge_prob, ', cost', edge_cost)\n",
        "    G.add_edge(node_id, child_node_id, action = edge_action, prob = edge_prob, cost = edge_cost ) \n",
        "nx.draw(G,with_labels=True)"
      ],
      "metadata": {
        "colab": {
          "base_uri": "https://localhost:8080/",
          "height": 475
        },
        "id": "fzUGP_xijDxd",
        "outputId": "83ff92c2-9dd9-43bb-b925-034bf0699bbc"
      },
      "execution_count": null,
      "outputs": [
        {
          "output_type": "stream",
          "name": "stdout",
          "text": [
            "edge from  1 to  2 action: strategy_1_yes , prob 1.0 , cost -10.0\n",
            "edge from  1 to  6 action: strategy_1_no , prob 1.0 , cost 0.0\n",
            "edge from  2 to  3 action: meet_criteria_yes , prob 0.0 , cost 0.0\n",
            "edge from  2 to  6 action: meet_criteria_no , prob 0.0 , cost 0.0\n",
            "edge from  3 to  4 action: strategy_2_yes , prob 1.0 , cost -10.0\n",
            "edge from  3 to  6 action: strategy_2_no , prob 1.0 , cost 0.0\n",
            "edge from  4 to  5 action: meet_criteria_yes , prob 0.0 , cost 0.0\n",
            "edge from  4 to  6 action: meet_criteria_no , prob 0.0 , cost 0.0\n",
            "edge from  5 to  6 action: Project_done , prob 1.0 , cost 0.0\n"
          ]
        },
        {
          "output_type": "display_data",
          "data": {
            "text/plain": [
              "<Figure size 432x288 with 1 Axes>"
            ],
            "image/png": "[encoded data removed]"
          },
          "metadata": {}
        }
      ]
    },
    {
      "cell_type": "markdown",
      "source": [
        "# Find all the path"
      ],
      "metadata": {
        "id": "EYzKAdP-4twf"
      }
    },
    {
      "cell_type": "code",
      "source": [
        "path = nx.all_simple_paths(G, 1, 6)\n",
        "path = list(path)\n",
        "print('path:' ,path)"
      ],
      "metadata": {
        "colab": {
          "base_uri": "https://localhost:8080/"
        },
        "id": "kytUlL9MPXVv",
        "outputId": "d8d64f5d-1cbb-4fdd-a671-280741b18719"
      },
      "execution_count": null,
      "outputs": [
        {
          "output_type": "stream",
          "name": "stdout",
          "text": [
            "path: [[1, 2, 3, 4, 5, 6], [1, 2, 3, 4, 6], [1, 2, 3, 6], [1, 2, 6], [1, 6]]\n"
          ]
        }
      ]
    },
    {
      "cell_type": "markdown",
      "source": [
        "# Compute the discounted value of the path"
      ],
      "metadata": {
        "id": "Ia3j2u3Q4zqV"
      }
    },
    {
      "cell_type": "code",
      "source": [
        "\n",
        "class Path():\n",
        "\n",
        "  def __init__(self, node_seq, G):\n",
        "    self.node_seq = node_seq\n",
        "    self.G = G \n",
        "  def compute_cost_prob(self):\n",
        "    G = self.G\n",
        "    node_seq = self.node_seq\n",
        "    node_seq_len = len(self.node_seq)\n",
        "\n",
        "    # Create list of transitions (each transition is a 2-tuple) \n",
        "    transitions = [(a,b) for a,b in zip(node_seq[:-1], node_seq[1:])]\n",
        "          \n",
        "    cost_total = 0  # initialise total cost accured along path \n",
        "    prob_total = 1  # probability of path \n",
        "    seq_action = [] # To store actions of a path\n",
        "    \n",
        "\n",
        "    for n in node_seq:\n",
        "      \n",
        "      print('\\n Passing through node', n, 'which is of type: ', G.nodes[n]['node_type'])\n",
        "\n",
        "      #------------------\n",
        "      # Find the corresponding transition (with the current node as initial node)\n",
        "      #------------------\n",
        "      transitions = [(a,b) for a,b in zip(node_seq[:-1], node_seq[1:])]\n",
        "\n",
        "      if n != node_seq[-1]: # if not terminal\n",
        "\n",
        "        current_transition = [this_transition for this_transition in transitions if this_transition[0] == n]\n",
        "        print('-- current transition ' , current_transition)\n",
        "\n",
        "        node_from  = current_transition[0][0]    \n",
        "        node_to = current_transition[0][1]\n",
        "        print('this is from ', node_from, 'to', node_to)\n",
        "        #------------------\n",
        "        # Find actions from node_from to the node_to\n",
        "        #------------------\n",
        "        edge_attr = G[node_from][node_to]\n",
        "        print('edge attributes:' , edge_attr)\n",
        "        \n",
        "  \n",
        "        cost_increment = edge_attr['cost']\n",
        "        print('-- cost_increment = ', cost_increment)\n",
        "       \n",
        "        cost_total = cost_total + cost_increment\n",
        "        prob_total = prob_total * edge_attr['prob'] \n",
        "        print('-- Total cost = ',cost_total )\n",
        "        print('-- Total prob = ', prob_total ) \n",
        "    \n",
        "      else:  #  for a terminal node there is only one action hence: \n",
        "        print('This is the end of sequence and final cost/prob')\n",
        "        edge_attr = {'action': 'End'}\n",
        "        cost_total = cost_total\n",
        "        prob_total = prob_total\n",
        "        print('-- Total cost = ', cost_total )\n",
        "        print('-- Total prob = ', prob_total ) \n",
        "                     \n",
        "      seq_action.append(edge_attr['action'])\n",
        "     \n",
        "      path_characteristics = {\n",
        "          'path_cost': cost_total, \n",
        "          'path_prob'  : prob_total,\n",
        "          'path_action': seq_action}\n",
        "\n",
        "    return path_characteristics\n"
      ],
      "metadata": {
        "id": "ap32StMuTXfQ"
      },
      "execution_count": null,
      "outputs": []
    },
    {
      "cell_type": "markdown",
      "source": [
        "# Run the code for an example path:"
      ],
      "metadata": {
        "id": "31tyOsSs5C3D"
      }
    },
    {
      "cell_type": "code",
      "source": [
        "example_path = path[0]\n",
        "Network_res = Path(example_path, G)\n",
        "path_characteristics = Network_res.compute_cost_prob()"
      ],
      "metadata": {
        "colab": {
          "base_uri": "https://localhost:8080/"
        },
        "id": "bxS1bySxVTte",
        "outputId": "d5fb8fb6-922e-4c97-faf6-8513b243e51e"
      },
      "execution_count": null,
      "outputs": [
        {
          "output_type": "stream",
          "name": "stdout",
          "text": [
            "\n",
            " Passing through node 1 which is of type:  Decision\n",
            "-- current transition  [(1, 2)]\n",
            "this is from  1 to 2\n",
            "edge attributes: {'action': 'strategy_1_yes', 'prob': 1.0, 'cost': -10.0}\n",
            "-- cost_increment =  -10.0\n",
            "-- Total cost =  -10.0\n",
            "-- Total prob =  1.0\n",
            "\n",
            " Passing through node 2 which is of type:  Event\n",
            "-- current transition  [(2, 3)]\n",
            "this is from  2 to 3\n",
            "edge attributes: {'action': 'meet_criteria_yes', 'prob': 0.5, 'cost': 0.0}\n",
            "-- cost_increment =  0.0\n",
            "-- Total cost =  -10.0\n",
            "-- Total prob =  0.5\n",
            "\n",
            " Passing through node 3 which is of type:  Decision\n",
            "-- current transition  [(3, 4)]\n",
            "this is from  3 to 4\n",
            "edge attributes: {'action': 'strategy_2_yes', 'prob': 1.0, 'cost': -10.0}\n",
            "-- cost_increment =  -10.0\n",
            "-- Total cost =  -20.0\n",
            "-- Total prob =  0.5\n",
            "\n",
            " Passing through node 4 which is of type:  Event\n",
            "-- current transition  [(4, 5)]\n",
            "this is from  4 to 5\n",
            "edge attributes: {'action': 'meet_criteria_yes', 'prob': 0.5, 'cost': 0.0}\n",
            "-- cost_increment =  0.0\n",
            "-- Total cost =  -20.0\n",
            "-- Total prob =  0.25\n",
            "\n",
            " Passing through node 5 which is of type:  Decision\n",
            "-- current transition  [(5, 6)]\n",
            "this is from  5 to 6\n",
            "edge attributes: {'action': 'Project_done', 'prob': 1.0, 'cost': 0.0}\n",
            "-- cost_increment =  0.0\n",
            "-- Total cost =  -20.0\n",
            "-- Total prob =  0.25\n",
            "\n",
            " Passing through node 6 which is of type:  Terminal\n",
            "This is the end of sequence and final cost/prob\n",
            "-- Total cost =  -20.0\n",
            "-- Total prob =  0.25\n"
          ]
        }
      ]
    }
  ],
  "metadata": {
    "colab": {
      "machine_shape": "hm",
      "provenance": []
    },
    "kernelspec": {
      "display_name": "Python 3",
      "name": "python3"
    }
  },
  "nbformat": 4,
  "nbformat_minor": 0
}